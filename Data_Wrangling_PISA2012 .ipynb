{
 "cells": [
  {
   "cell_type": "markdown",
   "metadata": {},
   "source": [
    "# Wrangling the PISA 2012 Dataset\n",
    "\n",
    "## About PISA test:-\n",
    "PISA is the OECD's Programme for International Student Assessment. Every three years it tests 15-year-old students from all over the world in reading, mathematics and science. The tests are designed to gauge how well the students master key subjects in order to be prepared for real-life situations in the adult world. Why choose 15-year-olds? Because in most countries, at the age of 15, students can decide whether or not they want to continue their education. They therefore need to be equipped for adult life. \n",
    "\n",
    "### Here, I have chosen to do some preliminary data wrangling to facilitate our Data Exploration phase."
   ]
  },
  {
   "cell_type": "code",
   "execution_count": 1,
   "metadata": {},
   "outputs": [],
   "source": [
    "# Importing the necessary libraries\n",
    "import numpy as np\n",
    "import pandas as pd\n",
    "import matplotlib.pyplot as plt\n",
    "import seaborn as sb\n",
    "\n",
    "%matplotlib inline"
   ]
  },
  {
   "cell_type": "code",
   "execution_count": 2,
   "metadata": {},
   "outputs": [
    {
     "name": "stdout",
     "output_type": "stream",
     "text": [
      "<_io.TextIOWrapper name='pisa2012.csv' mode='r' encoding='cp1252'>\n"
     ]
    }
   ],
   "source": [
    "# Let us get the encoding of the .csv to be imported \n",
    "with open('pisa2012.csv') as f:\n",
    "    print(f)"
   ]
  },
  {
   "cell_type": "code",
   "execution_count": 3,
   "metadata": {},
   "outputs": [
    {
     "name": "stderr",
     "output_type": "stream",
     "text": [
      "E:\\Anaconda\\lib\\site-packages\\IPython\\core\\interactiveshell.py:3020: DtypeWarning: Columns (15,16,17,21,22,23,24,25,26,30,31,36,37,45,65,123,155,156,157,158,159,160,161,162,163,164,165,166,167,168,169,170,171,284,285,286,287,288,289,290,291,292,293,294,295,296,297,298,299,300,301,302,303,307,308,309,310,311,312,313,314,315,316,317,318,319,320,321,322,323,324,325,326,327,328,329,330,331,332,333,334,335,336,337,338,339,340,341,342,343,344,345,346,347,348,349,350,351,352,353,354,355,356,357,376,377,378,379,380,381,382,383,384,385,386,387,388,389,390,391,392,393,394,395,396,397,398,399,400,401,402,403,475) have mixed types. Specify dtype option on import or set low_memory=False.\n",
      "  interactivity=interactivity, compiler=compiler, result=result)\n"
     ]
    },
    {
     "data": {
      "text/html": [
       "<div>\n",
       "<style scoped>\n",
       "    .dataframe tbody tr th:only-of-type {\n",
       "        vertical-align: middle;\n",
       "    }\n",
       "\n",
       "    .dataframe tbody tr th {\n",
       "        vertical-align: top;\n",
       "    }\n",
       "\n",
       "    .dataframe thead th {\n",
       "        text-align: right;\n",
       "    }\n",
       "</style>\n",
       "<table border=\"1\" class=\"dataframe\">\n",
       "  <thead>\n",
       "    <tr style=\"text-align: right;\">\n",
       "      <th></th>\n",
       "      <th>Unnamed: 0</th>\n",
       "      <th>CNT</th>\n",
       "      <th>SUBNATIO</th>\n",
       "      <th>STRATUM</th>\n",
       "      <th>OECD</th>\n",
       "      <th>NC</th>\n",
       "      <th>SCHOOLID</th>\n",
       "      <th>STIDSTD</th>\n",
       "      <th>ST01Q01</th>\n",
       "      <th>ST02Q01</th>\n",
       "      <th>...</th>\n",
       "      <th>W_FSTR75</th>\n",
       "      <th>W_FSTR76</th>\n",
       "      <th>W_FSTR77</th>\n",
       "      <th>W_FSTR78</th>\n",
       "      <th>W_FSTR79</th>\n",
       "      <th>W_FSTR80</th>\n",
       "      <th>WVARSTRR</th>\n",
       "      <th>VAR_UNIT</th>\n",
       "      <th>SENWGT_STU</th>\n",
       "      <th>VER_STU</th>\n",
       "    </tr>\n",
       "  </thead>\n",
       "  <tbody>\n",
       "    <tr>\n",
       "      <th>0</th>\n",
       "      <td>1</td>\n",
       "      <td>Albania</td>\n",
       "      <td>80000</td>\n",
       "      <td>ALB0006</td>\n",
       "      <td>Non-OECD</td>\n",
       "      <td>Albania</td>\n",
       "      <td>1</td>\n",
       "      <td>1</td>\n",
       "      <td>10</td>\n",
       "      <td>1.0</td>\n",
       "      <td>...</td>\n",
       "      <td>13.7954</td>\n",
       "      <td>13.9235</td>\n",
       "      <td>13.1249</td>\n",
       "      <td>13.1249</td>\n",
       "      <td>4.3389</td>\n",
       "      <td>13.0829</td>\n",
       "      <td>19</td>\n",
       "      <td>1</td>\n",
       "      <td>0.2098</td>\n",
       "      <td>22NOV13</td>\n",
       "    </tr>\n",
       "    <tr>\n",
       "      <th>1</th>\n",
       "      <td>2</td>\n",
       "      <td>Albania</td>\n",
       "      <td>80000</td>\n",
       "      <td>ALB0006</td>\n",
       "      <td>Non-OECD</td>\n",
       "      <td>Albania</td>\n",
       "      <td>1</td>\n",
       "      <td>2</td>\n",
       "      <td>10</td>\n",
       "      <td>1.0</td>\n",
       "      <td>...</td>\n",
       "      <td>13.7954</td>\n",
       "      <td>13.9235</td>\n",
       "      <td>13.1249</td>\n",
       "      <td>13.1249</td>\n",
       "      <td>4.3389</td>\n",
       "      <td>13.0829</td>\n",
       "      <td>19</td>\n",
       "      <td>1</td>\n",
       "      <td>0.2098</td>\n",
       "      <td>22NOV13</td>\n",
       "    </tr>\n",
       "    <tr>\n",
       "      <th>2</th>\n",
       "      <td>3</td>\n",
       "      <td>Albania</td>\n",
       "      <td>80000</td>\n",
       "      <td>ALB0006</td>\n",
       "      <td>Non-OECD</td>\n",
       "      <td>Albania</td>\n",
       "      <td>1</td>\n",
       "      <td>3</td>\n",
       "      <td>9</td>\n",
       "      <td>1.0</td>\n",
       "      <td>...</td>\n",
       "      <td>12.7307</td>\n",
       "      <td>12.7307</td>\n",
       "      <td>12.7307</td>\n",
       "      <td>12.7307</td>\n",
       "      <td>4.2436</td>\n",
       "      <td>12.7307</td>\n",
       "      <td>19</td>\n",
       "      <td>1</td>\n",
       "      <td>0.1999</td>\n",
       "      <td>22NOV13</td>\n",
       "    </tr>\n",
       "    <tr>\n",
       "      <th>3</th>\n",
       "      <td>4</td>\n",
       "      <td>Albania</td>\n",
       "      <td>80000</td>\n",
       "      <td>ALB0006</td>\n",
       "      <td>Non-OECD</td>\n",
       "      <td>Albania</td>\n",
       "      <td>1</td>\n",
       "      <td>4</td>\n",
       "      <td>9</td>\n",
       "      <td>1.0</td>\n",
       "      <td>...</td>\n",
       "      <td>12.7307</td>\n",
       "      <td>12.7307</td>\n",
       "      <td>12.7307</td>\n",
       "      <td>12.7307</td>\n",
       "      <td>4.2436</td>\n",
       "      <td>12.7307</td>\n",
       "      <td>19</td>\n",
       "      <td>1</td>\n",
       "      <td>0.1999</td>\n",
       "      <td>22NOV13</td>\n",
       "    </tr>\n",
       "    <tr>\n",
       "      <th>4</th>\n",
       "      <td>5</td>\n",
       "      <td>Albania</td>\n",
       "      <td>80000</td>\n",
       "      <td>ALB0006</td>\n",
       "      <td>Non-OECD</td>\n",
       "      <td>Albania</td>\n",
       "      <td>1</td>\n",
       "      <td>5</td>\n",
       "      <td>9</td>\n",
       "      <td>1.0</td>\n",
       "      <td>...</td>\n",
       "      <td>12.7307</td>\n",
       "      <td>12.7307</td>\n",
       "      <td>12.7307</td>\n",
       "      <td>12.7307</td>\n",
       "      <td>4.2436</td>\n",
       "      <td>12.7307</td>\n",
       "      <td>19</td>\n",
       "      <td>1</td>\n",
       "      <td>0.1999</td>\n",
       "      <td>22NOV13</td>\n",
       "    </tr>\n",
       "    <tr>\n",
       "      <th>5</th>\n",
       "      <td>6</td>\n",
       "      <td>Albania</td>\n",
       "      <td>80000</td>\n",
       "      <td>ALB0006</td>\n",
       "      <td>Non-OECD</td>\n",
       "      <td>Albania</td>\n",
       "      <td>1</td>\n",
       "      <td>6</td>\n",
       "      <td>9</td>\n",
       "      <td>1.0</td>\n",
       "      <td>...</td>\n",
       "      <td>12.7307</td>\n",
       "      <td>12.7307</td>\n",
       "      <td>12.7307</td>\n",
       "      <td>12.7307</td>\n",
       "      <td>4.2436</td>\n",
       "      <td>12.7307</td>\n",
       "      <td>19</td>\n",
       "      <td>1</td>\n",
       "      <td>0.1999</td>\n",
       "      <td>22NOV13</td>\n",
       "    </tr>\n",
       "  </tbody>\n",
       "</table>\n",
       "<p>6 rows × 636 columns</p>\n",
       "</div>"
      ],
      "text/plain": [
       "   Unnamed: 0      CNT  SUBNATIO  STRATUM      OECD       NC  SCHOOLID  \\\n",
       "0           1  Albania     80000  ALB0006  Non-OECD  Albania         1   \n",
       "1           2  Albania     80000  ALB0006  Non-OECD  Albania         1   \n",
       "2           3  Albania     80000  ALB0006  Non-OECD  Albania         1   \n",
       "3           4  Albania     80000  ALB0006  Non-OECD  Albania         1   \n",
       "4           5  Albania     80000  ALB0006  Non-OECD  Albania         1   \n",
       "5           6  Albania     80000  ALB0006  Non-OECD  Albania         1   \n",
       "\n",
       "   STIDSTD  ST01Q01  ST02Q01   ...     W_FSTR75  W_FSTR76 W_FSTR77 W_FSTR78  \\\n",
       "0        1       10      1.0   ...      13.7954   13.9235  13.1249  13.1249   \n",
       "1        2       10      1.0   ...      13.7954   13.9235  13.1249  13.1249   \n",
       "2        3        9      1.0   ...      12.7307   12.7307  12.7307  12.7307   \n",
       "3        4        9      1.0   ...      12.7307   12.7307  12.7307  12.7307   \n",
       "4        5        9      1.0   ...      12.7307   12.7307  12.7307  12.7307   \n",
       "5        6        9      1.0   ...      12.7307   12.7307  12.7307  12.7307   \n",
       "\n",
       "   W_FSTR79 W_FSTR80 WVARSTRR VAR_UNIT SENWGT_STU  VER_STU  \n",
       "0    4.3389  13.0829       19        1     0.2098  22NOV13  \n",
       "1    4.3389  13.0829       19        1     0.2098  22NOV13  \n",
       "2    4.2436  12.7307       19        1     0.1999  22NOV13  \n",
       "3    4.2436  12.7307       19        1     0.1999  22NOV13  \n",
       "4    4.2436  12.7307       19        1     0.1999  22NOV13  \n",
       "5    4.2436  12.7307       19        1     0.1999  22NOV13  \n",
       "\n",
       "[6 rows x 636 columns]"
      ]
     },
     "execution_count": 3,
     "metadata": {},
     "output_type": "execute_result"
    }
   ],
   "source": [
    "pisa2012= pd.read_csv('pisa2012.csv', encoding= 'cp1252')\n",
    "pisa2012.head(6)"
   ]
  },
  {
   "cell_type": "markdown",
   "metadata": {},
   "source": [
    "### What is the structure of your dataset?  \n",
    "The pisa2012 dataframe has 485490 rows spanning across 636 columns. "
   ]
  },
  {
   "cell_type": "code",
   "execution_count": 4,
   "metadata": {},
   "outputs": [
    {
     "data": {
      "text/plain": [
       "(485490, 636)"
      ]
     },
     "execution_count": 4,
     "metadata": {},
     "output_type": "execute_result"
    }
   ],
   "source": [
    "pisa2012.shape"
   ]
  },
  {
   "attachments": {
    "image.png": {
     "image/png": "[encoded data removed]"
    }
   },
   "cell_type": "markdown",
   "metadata": {},
   "source": [
    "### What is/are the main feature(s) of interest in your dataset?\n",
    "Since this is a very huge dataset, let us only keep the columns of interest for our data analysis. Out of the 636 columns, I chose the following 20 columns-\n",
    "\n",
    "![image.png](attachment:image.png)"
   ]
  },
  {
   "cell_type": "code",
   "execution_count": 5,
   "metadata": {},
   "outputs": [
    {
     "data": {
      "text/html": [
       "<div>\n",
       "<style scoped>\n",
       "    .dataframe tbody tr th:only-of-type {\n",
       "        vertical-align: middle;\n",
       "    }\n",
       "\n",
       "    .dataframe tbody tr th {\n",
       "        vertical-align: top;\n",
       "    }\n",
       "\n",
       "    .dataframe thead th {\n",
       "        text-align: right;\n",
       "    }\n",
       "</style>\n",
       "<table border=\"1\" class=\"dataframe\">\n",
       "  <thead>\n",
       "    <tr style=\"text-align: right;\">\n",
       "      <th></th>\n",
       "      <th>CNT</th>\n",
       "      <th>ST04Q01</th>\n",
       "      <th>PV1MATH</th>\n",
       "      <th>PV2MATH</th>\n",
       "      <th>PV3MATH</th>\n",
       "      <th>PV4MATH</th>\n",
       "      <th>PV5MATH</th>\n",
       "      <th>PV1SCIE</th>\n",
       "      <th>PV2SCIE</th>\n",
       "      <th>PV3SCIE</th>\n",
       "      <th>PV4SCIE</th>\n",
       "      <th>PV5SCIE</th>\n",
       "      <th>PV1READ</th>\n",
       "      <th>PV2READ</th>\n",
       "      <th>PV3READ</th>\n",
       "      <th>PV4READ</th>\n",
       "      <th>PV5READ</th>\n",
       "      <th>COBN_S</th>\n",
       "      <th>COBN_F</th>\n",
       "      <th>COBN_M</th>\n",
       "    </tr>\n",
       "  </thead>\n",
       "  <tbody>\n",
       "    <tr>\n",
       "      <th>0</th>\n",
       "      <td>Albania</td>\n",
       "      <td>Female</td>\n",
       "      <td>406.8469</td>\n",
       "      <td>376.4683</td>\n",
       "      <td>344.5319</td>\n",
       "      <td>321.1637</td>\n",
       "      <td>381.9209</td>\n",
       "      <td>341.7009</td>\n",
       "      <td>408.8400</td>\n",
       "      <td>348.2283</td>\n",
       "      <td>367.8105</td>\n",
       "      <td>392.9877</td>\n",
       "      <td>249.5762</td>\n",
       "      <td>254.3420</td>\n",
       "      <td>406.8496</td>\n",
       "      <td>175.7053</td>\n",
       "      <td>218.5981</td>\n",
       "      <td>Albania</td>\n",
       "      <td>Albania</td>\n",
       "      <td>Albania</td>\n",
       "    </tr>\n",
       "    <tr>\n",
       "      <th>1</th>\n",
       "      <td>Albania</td>\n",
       "      <td>Female</td>\n",
       "      <td>486.1427</td>\n",
       "      <td>464.3325</td>\n",
       "      <td>453.4273</td>\n",
       "      <td>472.9008</td>\n",
       "      <td>476.0165</td>\n",
       "      <td>548.9929</td>\n",
       "      <td>471.5964</td>\n",
       "      <td>471.5964</td>\n",
       "      <td>443.6218</td>\n",
       "      <td>454.8116</td>\n",
       "      <td>406.2936</td>\n",
       "      <td>349.8975</td>\n",
       "      <td>400.7334</td>\n",
       "      <td>369.7553</td>\n",
       "      <td>396.7618</td>\n",
       "      <td>Albania</td>\n",
       "      <td>Albania</td>\n",
       "      <td>Albania</td>\n",
       "    </tr>\n",
       "    <tr>\n",
       "      <th>2</th>\n",
       "      <td>Albania</td>\n",
       "      <td>Female</td>\n",
       "      <td>533.2684</td>\n",
       "      <td>481.0796</td>\n",
       "      <td>489.6479</td>\n",
       "      <td>490.4269</td>\n",
       "      <td>533.2684</td>\n",
       "      <td>499.6643</td>\n",
       "      <td>428.7952</td>\n",
       "      <td>492.2044</td>\n",
       "      <td>512.7191</td>\n",
       "      <td>499.6643</td>\n",
       "      <td>401.2100</td>\n",
       "      <td>404.3872</td>\n",
       "      <td>387.7067</td>\n",
       "      <td>431.3938</td>\n",
       "      <td>401.2100</td>\n",
       "      <td>Albania</td>\n",
       "      <td>Albania</td>\n",
       "      <td>Albania</td>\n",
       "    </tr>\n",
       "  </tbody>\n",
       "</table>\n",
       "</div>"
      ],
      "text/plain": [
       "       CNT ST04Q01   PV1MATH   PV2MATH   PV3MATH   PV4MATH   PV5MATH  \\\n",
       "0  Albania  Female  406.8469  376.4683  344.5319  321.1637  381.9209   \n",
       "1  Albania  Female  486.1427  464.3325  453.4273  472.9008  476.0165   \n",
       "2  Albania  Female  533.2684  481.0796  489.6479  490.4269  533.2684   \n",
       "\n",
       "    PV1SCIE   PV2SCIE   PV3SCIE   PV4SCIE   PV5SCIE   PV1READ   PV2READ  \\\n",
       "0  341.7009  408.8400  348.2283  367.8105  392.9877  249.5762  254.3420   \n",
       "1  548.9929  471.5964  471.5964  443.6218  454.8116  406.2936  349.8975   \n",
       "2  499.6643  428.7952  492.2044  512.7191  499.6643  401.2100  404.3872   \n",
       "\n",
       "    PV3READ   PV4READ   PV5READ   COBN_S   COBN_F   COBN_M  \n",
       "0  406.8496  175.7053  218.5981  Albania  Albania  Albania  \n",
       "1  400.7334  369.7553  396.7618  Albania  Albania  Albania  \n",
       "2  387.7067  431.3938  401.2100  Albania  Albania  Albania  "
      ]
     },
     "execution_count": 5,
     "metadata": {},
     "output_type": "execute_result"
    }
   ],
   "source": [
    "# Let us create a new dataframe called pisa using only the necessary columns from the pisa2012 dataframe. \n",
    "cols_to_keep=['CNT','ST04Q01','PV1MATH','PV2MATH','PV3MATH','PV4MATH','PV5MATH','PV1SCIE','PV2SCIE','PV3SCIE','PV4SCIE',\n",
    "              'PV5SCIE','PV1READ','PV2READ','PV3READ','PV4READ','PV5READ','COBN_S','COBN_F','COBN_M']\n",
    "\n",
    "pisa= pisa2012[cols_to_keep]\n",
    "pisa.head(3)"
   ]
  },
  {
   "cell_type": "code",
   "execution_count": 6,
   "metadata": {},
   "outputs": [
    {
     "name": "stdout",
     "output_type": "stream",
     "text": [
      "<class 'pandas.core.frame.DataFrame'>\n",
      "RangeIndex: 485490 entries, 0 to 485489\n",
      "Data columns (total 20 columns):\n",
      "CNT        485490 non-null object\n",
      "ST04Q01    485490 non-null object\n",
      "PV1MATH    485490 non-null float64\n",
      "PV2MATH    485490 non-null float64\n",
      "PV3MATH    485490 non-null float64\n",
      "PV4MATH    485490 non-null float64\n",
      "PV5MATH    485490 non-null float64\n",
      "PV1SCIE    485490 non-null float64\n",
      "PV2SCIE    485490 non-null float64\n",
      "PV3SCIE    485490 non-null float64\n",
      "PV4SCIE    485490 non-null float64\n",
      "PV5SCIE    485490 non-null float64\n",
      "PV1READ    485490 non-null float64\n",
      "PV2READ    485490 non-null float64\n",
      "PV3READ    485490 non-null float64\n",
      "PV4READ    485490 non-null float64\n",
      "PV5READ    485490 non-null float64\n",
      "COBN_S     481836 non-null object\n",
      "COBN_F     481825 non-null object\n",
      "COBN_M     481843 non-null object\n",
      "dtypes: float64(15), object(5)\n",
      "memory usage: 74.1+ MB\n"
     ]
    }
   ],
   "source": [
    "pisa.info()"
   ]
  },
  {
   "cell_type": "markdown",
   "metadata": {},
   "source": [
    "All the columns have no null values except for those denoting the Student, Father and Mother Birth Country columns."
   ]
  },
  {
   "cell_type": "code",
   "execution_count": 7,
   "metadata": {},
   "outputs": [
    {
     "data": {
      "text/plain": [
       "0"
      ]
     },
     "execution_count": 7,
     "metadata": {},
     "output_type": "execute_result"
    }
   ],
   "source": [
    "# Let us check for duplicates in our pisa dataframe\n",
    "sum(pisa.duplicated())"
   ]
  },
  {
   "cell_type": "markdown",
   "metadata": {},
   "source": [
    "We do not have any duplicates in our data. :)"
   ]
  },
  {
   "cell_type": "markdown",
   "metadata": {},
   "source": [
    "### What features in the dataset do you think will help support your investigation into your feature(s) of interest?  \n",
    "\n",
    "I would like make use of the Test Scores columns in the Math, Science and Reading subjects as the Quantitative(Numerical) variables and the columns of Country, Gender and Parent Country Origin as the Qualitative(Categorical) variables for my Exploratory Data Analysis.  \n",
    "I would like to investigate the relationships that exits between different pairs of these variables and what are the conclusions that we can arrive at."
   ]
  },
  {
   "cell_type": "markdown",
   "metadata": {},
   "source": [
    "### Data Wrangling Steps:"
   ]
  },
  {
   "cell_type": "markdown",
   "metadata": {},
   "source": [
    "1) The scores in the subjects Math, Science and Reading are spread across 15 columns respectively and need to consolidated into 3 columns namely Avg Math Score, Avg Science Score and Avg Reading Score. "
   ]
  },
  {
   "cell_type": "code",
   "execution_count": 8,
   "metadata": {},
   "outputs": [
    {
     "name": "stderr",
     "output_type": "stream",
     "text": [
      "E:\\Anaconda\\lib\\site-packages\\pandas\\core\\indexing.py:362: SettingWithCopyWarning: \n",
      "A value is trying to be set on a copy of a slice from a DataFrame.\n",
      "Try using .loc[row_indexer,col_indexer] = value instead\n",
      "\n",
      "See the caveats in the documentation: http://pandas.pydata.org/pandas-docs/stable/indexing.html#indexing-view-versus-copy\n",
      "  self.obj[key] = _infer_fill_value(value)\n",
      "E:\\Anaconda\\lib\\site-packages\\pandas\\core\\indexing.py:543: SettingWithCopyWarning: \n",
      "A value is trying to be set on a copy of a slice from a DataFrame.\n",
      "Try using .loc[row_indexer,col_indexer] = value instead\n",
      "\n",
      "See the caveats in the documentation: http://pandas.pydata.org/pandas-docs/stable/indexing.html#indexing-view-versus-copy\n",
      "  self.obj[item] = s\n"
     ]
    }
   ],
   "source": [
    "# Let us compute the respective averages of the 5 Plausible Math, Science and Reading Scores \n",
    "\n",
    "pisa.loc[:,'Avg Math Score']= (pisa['PV1MATH'] + pisa['PV2MATH'] + pisa['PV3MATH'] + pisa['PV4MATH'] + pisa['PV5MATH']) /5\n",
    "pisa.loc[:,'Avg Science Score']= (pisa['PV1SCIE'] + pisa['PV2SCIE'] + pisa['PV3SCIE'] + pisa['PV4SCIE'] + pisa['PV5SCIE']) /5\n",
    "pisa.loc[:,'Avg Reading Score']= (pisa['PV1READ'] + pisa['PV2READ'] + pisa['PV3READ'] + pisa['PV4READ'] + pisa['PV5READ']) /5"
   ]
  },
  {
   "cell_type": "markdown",
   "metadata": {},
   "source": [
    "2) Let us check the Country column for any unintended errors. "
   ]
  },
  {
   "cell_type": "code",
   "execution_count": 9,
   "metadata": {
    "scrolled": true
   },
   "outputs": [
    {
     "data": {
      "text/plain": [
       "Mexico                      33806\n",
       "Italy                       31073\n",
       "Spain                       25313\n",
       "Canada                      21544\n",
       "Brazil                      19204\n",
       "Australia                   14481\n",
       "United Kingdom              12659\n",
       "United Arab Emirates        11500\n",
       "Switzerland                 11229\n",
       "Qatar                       10966\n",
       "Colombia                     9073\n",
       "Finland                      8829\n",
       "Belgium                      8597\n",
       "Denmark                      7481\n",
       "Jordan                       7038\n",
       "Chile                        6856\n",
       "Thailand                     6606\n",
       "Japan                        6351\n",
       "Chinese Taipei               6046\n",
       "Peru                         6035\n",
       "Slovenia                     5911\n",
       "Argentina                    5908\n",
       "Kazakhstan                   5808\n",
       "Portugal                     5722\n",
       "Indonesia                    5622\n",
       "Singapore                    5546\n",
       "Macao-China                  5335\n",
       "Czech Republic               5327\n",
       "Uruguay                      5315\n",
       "Bulgaria                     5282\n",
       "                            ...  \n",
       "Ireland                      5016\n",
       "Croatia                      5008\n",
       "Germany                      5001\n",
       "United States of America     4978\n",
       "Vietnam                      4959\n",
       "Turkey                       4848\n",
       "Hungary                      4810\n",
       "Estonia                      4779\n",
       "Austria                      4755\n",
       "Montenegro                   4744\n",
       "Albania                      4743\n",
       "Sweden                       4736\n",
       "Norway                       4686\n",
       "Serbia                       4684\n",
       "Slovak Republic              4678\n",
       "Hong Kong-China              4670\n",
       "Lithuania                    4618\n",
       "France                       4613\n",
       "Poland                       4607\n",
       "Costa Rica                   4602\n",
       "Netherlands                  4460\n",
       "Tunisia                      4407\n",
       "Latvia                       4306\n",
       "New Zealand                  4291\n",
       "Iceland                      3508\n",
       "Florida (USA)                1896\n",
       "Perm(Russian Federation)     1761\n",
       "Massachusetts (USA)          1723\n",
       "Connecticut (USA)            1697\n",
       "Liechtenstein                 293\n",
       "Name: CNT, Length: 68, dtype: int64"
      ]
     },
     "execution_count": 9,
     "metadata": {},
     "output_type": "execute_result"
    }
   ],
   "source": [
    "pisa.CNT.value_counts()"
   ]
  },
  {
   "cell_type": "markdown",
   "metadata": {},
   "source": [
    "The states of Florida, Massachussets and Connecticut have been considered as seperate countries."
   ]
  },
  {
   "cell_type": "code",
   "execution_count": 10,
   "metadata": {},
   "outputs": [
    {
     "name": "stderr",
     "output_type": "stream",
     "text": [
      "E:\\Anaconda\\lib\\site-packages\\pandas\\core\\generic.py:5890: SettingWithCopyWarning: \n",
      "A value is trying to be set on a copy of a slice from a DataFrame\n",
      "\n",
      "See the caveats in the documentation: http://pandas.pydata.org/pandas-docs/stable/indexing.html#indexing-view-versus-copy\n",
      "  self._update_inplace(new_data)\n"
     ]
    }
   ],
   "source": [
    "# These rows have considered the states of Florida, Massachussets and Connecticut as seperate countries. \n",
    "# So let us replace them with United States of America.\n",
    "\n",
    "state_names=['Florida (USA)','Massachusetts (USA)','Connecticut (USA)']\n",
    "pisa['CNT'].replace(state_names, 'United States of America', inplace= True)"
   ]
  },
  {
   "cell_type": "code",
   "execution_count": 11,
   "metadata": {},
   "outputs": [
    {
     "data": {
      "text/plain": [
       "Mexico                      33806\n",
       "Italy                       31073\n",
       "Spain                       25313\n",
       "Canada                      21544\n",
       "Brazil                      19204\n",
       "Australia                   14481\n",
       "United Kingdom              12659\n",
       "United Arab Emirates        11500\n",
       "Switzerland                 11229\n",
       "Qatar                       10966\n",
       "United States of America    10294\n",
       "Colombia                     9073\n",
       "Finland                      8829\n",
       "Belgium                      8597\n",
       "Denmark                      7481\n",
       "Jordan                       7038\n",
       "Chile                        6856\n",
       "Thailand                     6606\n",
       "Japan                        6351\n",
       "Chinese Taipei               6046\n",
       "Peru                         6035\n",
       "Slovenia                     5911\n",
       "Argentina                    5908\n",
       "Kazakhstan                   5808\n",
       "Portugal                     5722\n",
       "Indonesia                    5622\n",
       "Singapore                    5546\n",
       "Macao-China                  5335\n",
       "Czech Republic               5327\n",
       "Uruguay                      5315\n",
       "                            ...  \n",
       "Greece                       5125\n",
       "Romania                      5074\n",
       "Israel                       5055\n",
       "Korea                        5033\n",
       "Ireland                      5016\n",
       "Croatia                      5008\n",
       "Germany                      5001\n",
       "Vietnam                      4959\n",
       "Turkey                       4848\n",
       "Hungary                      4810\n",
       "Estonia                      4779\n",
       "Austria                      4755\n",
       "Montenegro                   4744\n",
       "Albania                      4743\n",
       "Sweden                       4736\n",
       "Norway                       4686\n",
       "Serbia                       4684\n",
       "Slovak Republic              4678\n",
       "Hong Kong-China              4670\n",
       "Lithuania                    4618\n",
       "France                       4613\n",
       "Poland                       4607\n",
       "Costa Rica                   4602\n",
       "Netherlands                  4460\n",
       "Tunisia                      4407\n",
       "Latvia                       4306\n",
       "New Zealand                  4291\n",
       "Iceland                      3508\n",
       "Perm(Russian Federation)     1761\n",
       "Liechtenstein                 293\n",
       "Name: CNT, Length: 65, dtype: int64"
      ]
     },
     "execution_count": 11,
     "metadata": {},
     "output_type": "execute_result"
    }
   ],
   "source": [
    "# This has helped us see the actual position of United States of America as well as 65 economies that participated in \n",
    "# PISA 2012.\n",
    "pisa.CNT.value_counts()"
   ]
  },
  {
   "cell_type": "markdown",
   "metadata": {},
   "source": [
    "3) Let us now rename all our columns and drop the unnecessary columns."
   ]
  },
  {
   "cell_type": "code",
   "execution_count": 12,
   "metadata": {},
   "outputs": [
    {
     "name": "stderr",
     "output_type": "stream",
     "text": [
      "E:\\Anaconda\\lib\\site-packages\\pandas\\core\\frame.py:3781: SettingWithCopyWarning: \n",
      "A value is trying to be set on a copy of a slice from a DataFrame\n",
      "\n",
      "See the caveats in the documentation: http://pandas.pydata.org/pandas-docs/stable/indexing.html#indexing-view-versus-copy\n",
      "  return super(DataFrame, self).rename(**kwargs)\n",
      "E:\\Anaconda\\lib\\site-packages\\pandas\\core\\frame.py:3697: SettingWithCopyWarning: \n",
      "A value is trying to be set on a copy of a slice from a DataFrame\n",
      "\n",
      "See the caveats in the documentation: http://pandas.pydata.org/pandas-docs/stable/indexing.html#indexing-view-versus-copy\n",
      "  errors=errors)\n"
     ]
    }
   ],
   "source": [
    "# Columns to rename in pisa\n",
    "pisa.rename({'CNT' : 'Country','ST04Q01' : 'Gender','COBN_S':'Birth Country Student','COBN_F':'Birth Country Father',\n",
    "             'COBN_M':'Birth Country Mother'}, axis = 1, inplace = True)\n",
    "\n",
    "# Columns to drop from pisa\n",
    "cols_to_drop=['PV1MATH','PV2MATH','PV3MATH','PV4MATH','PV5MATH','PV1SCIE','PV2SCIE','PV3SCIE','PV4SCIE','PV5SCIE',\n",
    "              'PV1READ','PV2READ','PV3READ','PV4READ','PV5READ']\n",
    "pisa.drop(cols_to_drop, axis=1, inplace= True)"
   ]
  },
  {
   "cell_type": "markdown",
   "metadata": {},
   "source": [
    "4) Let us employ some Feature Engineering by adding a new column called 'Parent Country Origin' that constitutes the values in both the 'Birth Country Father' and 'Birth Country Mother' columns. This will enable us with more understanding about how the students fared in the test, given their parent's origin was either from same or different countries. "
   ]
  },
  {
   "cell_type": "code",
   "execution_count": 14,
   "metadata": {},
   "outputs": [],
   "source": [
    "# As seen in pisa.info(), we need to handle the null values in the 'Birth Country Student','Birth Country Father' \n",
    "# and 'Birth Country Mother' columns before creating the new column\n",
    "pisa.loc[:,'Birth Country Student'].fillna('Unknown', inplace=True)\n",
    "pisa.loc[:,'Birth Country Father'].fillna('Unknown FC', inplace=True)\n",
    "pisa.loc[:,'Birth Country Mother'].fillna('Unknown MC', inplace=True)"
   ]
  },
  {
   "cell_type": "code",
   "execution_count": 15,
   "metadata": {},
   "outputs": [],
   "source": [
    "# The'Parent Country Origin' column returns True only if there are matching values between the 'Birth Country Father' and \n",
    "# 'Birth Country Mother' columns.\n",
    "pisa.loc[:,'Parent Country Origin']= pisa['Birth Country Father']==pisa['Birth Country Mother']"
   ]
  },
  {
   "cell_type": "code",
   "execution_count": 16,
   "metadata": {},
   "outputs": [
    {
     "name": "stdout",
     "output_type": "stream",
     "text": [
      "<class 'pandas.core.frame.DataFrame'>\n",
      "RangeIndex: 485490 entries, 0 to 485489\n",
      "Data columns (total 9 columns):\n",
      "Country                  485490 non-null object\n",
      "Gender                   485490 non-null object\n",
      "Birth Country Student    485490 non-null object\n",
      "Birth Country Father     485490 non-null object\n",
      "Birth Country Mother     485490 non-null object\n",
      "Avg Math Score           485490 non-null float64\n",
      "Avg Science Score        485490 non-null float64\n",
      "Avg Reading Score        485490 non-null float64\n",
      "Parent Country Origin    485490 non-null bool\n",
      "dtypes: bool(1), float64(3), object(5)\n",
      "memory usage: 30.1+ MB\n"
     ]
    }
   ],
   "source": [
    "# Let us check how our pisa dataframe looks now\n",
    "pisa.info()"
   ]
  },
  {
   "cell_type": "code",
   "execution_count": 17,
   "metadata": {},
   "outputs": [
    {
     "data": {
      "text/plain": [
       "True     428025\n",
       "False     57465\n",
       "Name: Parent Country Origin, dtype: int64"
      ]
     },
     "execution_count": 17,
     "metadata": {},
     "output_type": "execute_result"
    }
   ],
   "source": [
    "pisa['Parent Country Origin'].value_counts()"
   ]
  },
  {
   "cell_type": "code",
   "execution_count": 18,
   "metadata": {},
   "outputs": [
    {
     "data": {
      "text/plain": [
       "dtype('bool')"
      ]
     },
     "execution_count": 18,
     "metadata": {},
     "output_type": "execute_result"
    }
   ],
   "source": [
    "pisa['Parent Country Origin'].dtype"
   ]
  },
  {
   "cell_type": "code",
   "execution_count": 21,
   "metadata": {},
   "outputs": [],
   "source": [
    "# We see that the 'Parent Country Origin' column is of type bool. Let us convert into an object datatype and \n",
    "# replace the True values with 'Same' and False values with 'Different'.\n",
    "\n",
    "pisa.loc[:,'Parent Country Origin']= pisa['Parent Country Origin'].astype('str')\n",
    "pisa.loc[:,'Parent Country Origin'].replace({'True':'Same', 'False':'Different'}, inplace= True)"
   ]
  },
  {
   "cell_type": "code",
   "execution_count": 22,
   "metadata": {},
   "outputs": [
    {
     "data": {
      "text/plain": [
       "Same         428025\n",
       "Different     57465\n",
       "Name: Parent Country Origin, dtype: int64"
      ]
     },
     "execution_count": 22,
     "metadata": {},
     "output_type": "execute_result"
    }
   ],
   "source": [
    "pisa['Parent Country Origin'].value_counts()"
   ]
  },
  {
   "cell_type": "markdown",
   "metadata": {},
   "source": [
    "Let us save our pisa dataframe into a new .csv file for further explorations."
   ]
  },
  {
   "cell_type": "code",
   "execution_count": 23,
   "metadata": {},
   "outputs": [],
   "source": [
    "# Saving the pisa dataframe into a new .csv file for further explorations.\n",
    "pisa.to_csv('pisa_clean.csv',index=False)"
   ]
  }
 ],
 "metadata": {
  "kernelspec": {
   "display_name": "Python 3",
   "language": "python",
   "name": "python3"
  },
  "language_info": {
   "codemirror_mode": {
    "name": "ipython",
    "version": 3
   },
   "file_extension": ".py",
   "mimetype": "text/x-python",
   "name": "python",
   "nbconvert_exporter": "python",
   "pygments_lexer": "ipython3",
   "version": "3.7.1"
  }
 },
 "nbformat": 4,
 "nbformat_minor": 2
}
